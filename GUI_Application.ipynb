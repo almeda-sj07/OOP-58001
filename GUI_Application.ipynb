{
  "nbformat": 4,
  "nbformat_minor": 0,
  "metadata": {
    "colab": {
      "name": "GUI Application.ipynb",
      "provenance": [],
      "collapsed_sections": [],
      "authorship_tag": "ABX9TyNXeEnS9uSKW3hzhhxU2kUX",
      "include_colab_link": true
    },
    "kernelspec": {
      "name": "python3",
      "display_name": "Python 3"
    },
    "language_info": {
      "name": "python"
    }
  },
  "cells": [
    {
      "cell_type": "markdown",
      "metadata": {
        "id": "view-in-github",
        "colab_type": "text"
      },
      "source": [
        "<a href=\"https://colab.research.google.com/github/almeda-sj07/OOP-58001/blob/main/GUI_Application.ipynb\" target=\"_parent\"><img src=\"https://colab.research.google.com/assets/colab-badge.svg\" alt=\"Open In Colab\"/></a>"
      ]
    },
    {
      "cell_type": "markdown",
      "source": [
        "Create a Python program that displays the grades of the students"
      ],
      "metadata": {
        "id": "VsELMw7n_ikf"
      }
    },
    {
      "cell_type": "code",
      "execution_count": null,
      "metadata": {
        "colab": {
          "base_uri": "https://localhost:8080/"
        },
        "id": "uOpHVNjC-TuS",
        "outputId": "33a69ff2-befa-4375-e790-6ba9a9ead8ce"
      },
      "outputs": [
        {
          "output_type": "stream",
          "name": "stdout",
          "text": [
            "Student_Name: Steph Almeda\n",
            "Semestral Grade of the Student: 90.0\n"
          ]
        }
      ],
      "source": [
        "#@title Students' Grades in Object-oriented Programming\n",
        "Student_Name = \"Steph Almeda\" #@param {type: \"string\"}\n",
        "prelim = 92 #@param {type:\"number\"}\n",
        "midterm = 88 #@param {type:\"number\"}\n",
        "final = 90 #@param {type:\"number\"}\n",
        "semestral = prelim*0.30+midterm*0.30+final*0.40\n",
        "\n",
        "print(\"Student_Name: \"+Student_Name)\n",
        "print(\"Semestral Grade of the Student: \"+str(semestral))"
      ]
    },
    {
      "cell_type": "code",
      "source": [
        "#@title Gender\n",
        "\n",
        "Gender = \"Female\" #@param [\"Male\",\"Female\"]\n",
        "Birthdate = '2001-09-07' #@param {type: \"date\"}\n",
        "\n",
        "print(\"My birthdate is \"+Birthdate)\n",
        "print(\"My gender is \"+ Gender)"
      ],
      "metadata": {
        "colab": {
          "base_uri": "https://localhost:8080/"
        },
        "id": "2Hrn7SmJD-7g",
        "outputId": "d6fc665f-be43-4905-fe00-98f2efb4060e"
      },
      "execution_count": null,
      "outputs": [
        {
          "output_type": "stream",
          "name": "stdout",
          "text": [
            "My birthdate is 2001-09-07\n",
            "My gender is Female\n"
          ]
        }
      ]
    }
  ]
}