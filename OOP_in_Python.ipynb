{
  "nbformat": 4,
  "nbformat_minor": 0,
  "metadata": {
    "colab": {
      "name": "OOP in Python.ipynb",
      "provenance": [],
      "authorship_tag": "ABX9TyPyd3u7a4o9nMSXiLlKbhsf",
      "include_colab_link": true
    },
    "kernelspec": {
      "name": "python3",
      "display_name": "Python 3"
    },
    "language_info": {
      "name": "python"
    }
  },
  "cells": [
    {
      "cell_type": "markdown",
      "metadata": {
        "id": "view-in-github",
        "colab_type": "text"
      },
      "source": [
        "<a href=\"https://colab.research.google.com/github/almeda-sj07/OOP-58001/blob/main/OOP_in_Python.ipynb\" target=\"_parent\"><img src=\"https://colab.research.google.com/assets/colab-badge.svg\" alt=\"Open In Colab\"/></a>"
      ]
    },
    {
      "cell_type": "markdown",
      "source": [
        "Create a Class"
      ],
      "metadata": {
        "id": "1DCKjxEOrDDV"
      }
    },
    {
      "cell_type": "code",
      "execution_count": 3,
      "metadata": {
        "id": "DJJ9603TqiZO"
      },
      "outputs": [],
      "source": [
        "class MyClass:\n",
        "  pass              #to create a class without method"
      ]
    },
    {
      "cell_type": "code",
      "source": [
        "class MyClass:      #the name of the class\n",
        "  x = 30            #property of the class named MyClass"
      ],
      "metadata": {
        "id": "VVII-tUHrdqL"
      },
      "execution_count": 8,
      "outputs": []
    },
    {
      "cell_type": "code",
      "source": [
        "class Car():        #create a class named Car\n",
        "  def __init__(self,name,color):\n",
        "    self.name = name            #represent the instance of class named Car\n",
        "    self.color = color\n",
        "\n",
        "  def description(self):\n",
        "    return self.name, self.color\n",
        "\n",
        "  def display(self):\n",
        "    print(\"The name and color of the car is\",self.description())\n",
        "\n",
        "obj1 = Car(\"Porsche\",\"grey\")\n",
        "obj1.display()"
      ],
      "metadata": {
        "colab": {
          "base_uri": "https://localhost:8080/"
        },
        "id": "JsxCXJQusyAs",
        "outputId": "17f8865b-d3b3-4520-ae6a-c82a4068ff59"
      },
      "execution_count": 70,
      "outputs": [
        {
          "output_type": "stream",
          "name": "stdout",
          "text": [
            "The name and color of the car is ('Porsche', 'grey')\n"
          ]
        }
      ]
    },
    {
      "cell_type": "markdown",
      "source": [
        "Modify an Object Property"
      ],
      "metadata": {
        "id": "bhCVjn0Ow0ZH"
      }
    },
    {
      "cell_type": "code",
      "source": [
        "obj1.name = \"Audi\"\n",
        "print(obj1.name)"
      ],
      "metadata": {
        "colab": {
          "base_uri": "https://localhost:8080/"
        },
        "id": "0axMk_VFw496",
        "outputId": "351bcb0b-5ec2-4a6b-d301-16d65335fc37"
      },
      "execution_count": 71,
      "outputs": [
        {
          "output_type": "stream",
          "name": "stdout",
          "text": [
            "Audi\n"
          ]
        }
      ]
    },
    {
      "cell_type": "code",
      "source": [
        "obj1.display()"
      ],
      "metadata": {
        "colab": {
          "base_uri": "https://localhost:8080/"
        },
        "id": "w-CbFQ7Pxisn",
        "outputId": "77d103c4-be58-418f-9b6c-c6786c73f642"
      },
      "execution_count": 72,
      "outputs": [
        {
          "output_type": "stream",
          "name": "stdout",
          "text": [
            "The name and color of the car is ('Audi', 'grey')\n"
          ]
        }
      ]
    },
    {
      "cell_type": "markdown",
      "source": [
        "Delete the Object Property"
      ],
      "metadata": {
        "id": "cSThM4VKxwgB"
      }
    },
    {
      "cell_type": "code",
      "source": [
        "del obj1.color\n",
        "del obj1"
      ],
      "metadata": {
        "id": "J1YLMCBhxzzf"
      },
      "execution_count": 73,
      "outputs": []
    },
    {
      "cell_type": "markdown",
      "source": [
        "New Object"
      ],
      "metadata": {
        "id": "kTkoFljY1T0H"
      }
    },
    {
      "cell_type": "code",
      "source": [
        "obj2 = Car(\"Hyundai\",\"navy blue\")\n",
        "obj2.display()"
      ],
      "metadata": {
        "colab": {
          "base_uri": "https://localhost:8080/"
        },
        "id": "KZBPWciC0aDg",
        "outputId": "2e62d58e-d4db-4880-e75a-27adcd97d57e"
      },
      "execution_count": 74,
      "outputs": [
        {
          "output_type": "stream",
          "name": "stdout",
          "text": [
            "The name and color of the car is ('Hyundai', 'navy blue')\n"
          ]
        }
      ]
    },
    {
      "cell_type": "markdown",
      "source": [
        "Application 1 - Write a Python program to compute the area and perimeter of a rectangle. Use a Rectangle as class name, and length and width as attributes"
      ],
      "metadata": {
        "id": "tbPZW-cp1u67"
      }
    },
    {
      "cell_type": "code",
      "source": [
        "class Rectangle():\n",
        "  def __init__ (self,length,width):\n",
        "    self.length = length\n",
        "    self.width = width\n",
        "  \n",
        "  def Area(self):\n",
        "    return self.length*self.width\n",
        "  \n",
        "  def Perimeter(self):\n",
        "    return (2*self.length)+(2*self.width)\n",
        "  \n",
        "  def display(self):\n",
        "    print(\"The area of the rectangle is\",self.Area())\n",
        "    print(\"The perimeter of the rectangle is\",self.Perimeter())\n",
        "\n",
        "pol = Rectangle(2,3)\n",
        "pol.display()"
      ],
      "metadata": {
        "colab": {
          "base_uri": "https://localhost:8080/"
        },
        "id": "qUjeHFkd15Bw",
        "outputId": "1233f2cf-f9c7-4d19-a1d4-e8f2cf5414dc"
      },
      "execution_count": 83,
      "outputs": [
        {
          "output_type": "stream",
          "name": "stdout",
          "text": [
            "The area of the rectangle is 6\n",
            "The perimeter of the rectangle is 10\n"
          ]
        }
      ]
    },
    {
      "cell_type": "markdown",
      "source": [
        "Application 2 - Write a Python program to display a class name OOP_58001 with your student number and full name (Surname, First Name) as attributes"
      ],
      "metadata": {
        "id": "wQsGK92M4_MO"
      }
    },
    {
      "cell_type": "code",
      "source": [
        "class OOP_58001:\n",
        "  pass"
      ],
      "metadata": {
        "id": "l1IzAxRJ5L0w"
      },
      "execution_count": 84,
      "outputs": []
    },
    {
      "cell_type": "code",
      "source": [
        "class OOP_58001():\n",
        "  def __init__ (self,studentnumber,firstname, lastname):\n",
        "    self.studentnumber = studentnumber\n",
        "    self.firstname = firstname\n",
        "    self.lastname = lastname\n",
        "  \n",
        "  def fullname(self):\n",
        "    return self.lastname + self.firstname\n",
        "\n",
        "  def display(self):\n",
        "    print(\"A student of OOP 58001 has a student number of\",self.studentnumber)\n",
        "    print(\"The student's name is\", self.fullname())\n",
        "\n",
        "student = OOP_58001(202116899,\"Stephanie Joy\",\"Almeda, \")\n",
        "student.display()"
      ],
      "metadata": {
        "colab": {
          "base_uri": "https://localhost:8080/"
        },
        "id": "AG8YoCjd5eZt",
        "outputId": "eca00166-0caf-40c9-8bec-693f3f2b3ba2"
      },
      "execution_count": 121,
      "outputs": [
        {
          "output_type": "stream",
          "name": "stdout",
          "text": [
            "A student of OOP 58001 has a student number of 202116899\n",
            "The student's name is Almeda, Stephanie Joy\n"
          ]
        }
      ]
    }
  ]
}