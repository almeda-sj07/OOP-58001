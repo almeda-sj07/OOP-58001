{
  "nbformat": 4,
  "nbformat_minor": 0,
  "metadata": {
    "colab": {
      "name": "Almeda_Long Quiz 1.ipynb",
      "provenance": [],
      "authorship_tag": "ABX9TyM2r0sYmYK34PV/yB9dZItH",
      "include_colab_link": true
    },
    "kernelspec": {
      "name": "python3",
      "display_name": "Python 3"
    },
    "language_info": {
      "name": "python"
    }
  },
  "cells": [
    {
      "cell_type": "markdown",
      "metadata": {
        "id": "view-in-github",
        "colab_type": "text"
      },
      "source": [
        "<a href=\"https://colab.research.google.com/github/almeda-sj07/OOP-58001/blob/main/Almeda_Long_Quiz_1.ipynb\" target=\"_parent\"><img src=\"https://colab.research.google.com/assets/colab-badge.svg\" alt=\"Open In Colab\"/></a>"
      ]
    },
    {
      "cell_type": "code",
      "execution_count": 31,
      "metadata": {
        "id": "8HaG45Bj_njb",
        "colab": {
          "base_uri": "https://localhost:8080/"
        },
        "outputId": "e1b82cf6-5e06-4ad3-adf3-895e6ff9624b"
      },
      "outputs": [
        {
          "output_type": "stream",
          "name": "stdout",
          "text": [
            "19\n",
            "The circumference of the circle is 119.38052083641213\n",
            "The area of the circle is 1134.1149479459152\n"
          ]
        }
      ],
      "source": [
        "class Circle():\n",
        "  def __init__ (self,radius,pi):\n",
        "    self.radius = int(input())\n",
        "    self.pi = pi\n",
        "\n",
        "  def radius(self):\n",
        "    return r\n",
        "\n",
        "  def pi(self):\n",
        "    return 3.141592653589793238  \n",
        "  \n",
        "  def Circumference(self):\n",
        "    return 2*(self.pi)*(self.radius)\n",
        "\n",
        "  def Area(self):\n",
        "    return (self.pi)*((self.radius)**2) \n",
        "\n",
        "  def Display(self):\n",
        "    print(\"The circumference of the circle is\",self.Circumference())\n",
        "    print(\"The area of the circle is\",self.Area())\n",
        "\n",
        "shape = Circle(r,pi)\n",
        "shape.Display()"
      ]
    }
  ]
}