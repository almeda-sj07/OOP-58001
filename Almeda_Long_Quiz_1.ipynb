{
  "nbformat": 4,
  "nbformat_minor": 0,
  "metadata": {
    "colab": {
      "name": "Almeda_Long Quiz 1.ipynb",
      "provenance": [],
      "collapsed_sections": [],
      "authorship_tag": "ABX9TyMgKtceYQ+12xCbhNGg6gjy",
      "include_colab_link": true
    },
    "kernelspec": {
      "name": "python3",
      "display_name": "Python 3"
    },
    "language_info": {
      "name": "python"
    }
  },
  "cells": [
    {
      "cell_type": "markdown",
      "metadata": {
        "id": "view-in-github",
        "colab_type": "text"
      },
      "source": [
        "<a href=\"https://colab.research.google.com/github/almeda-sj07/OOP-58001/blob/main/Almeda_Long_Quiz_1.ipynb\" target=\"_parent\"><img src=\"https://colab.research.google.com/assets/colab-badge.svg\" alt=\"Open In Colab\"/></a>"
      ]
    },
    {
      "cell_type": "markdown",
      "source": [
        "#Long Quiz No. 1"
      ],
      "metadata": {
        "id": "cV7it7uf2dd8"
      }
    },
    {
      "cell_type": "code",
      "execution_count": 39,
      "metadata": {
        "id": "8HaG45Bj_njb",
        "colab": {
          "base_uri": "https://localhost:8080/"
        },
        "outputId": "08de7c16-608f-4a3d-fa67-d3d493eddb6e"
      },
      "outputs": [
        {
          "output_type": "stream",
          "name": "stdout",
          "text": [
            "20.7\n",
            "The circumference of the circle is 130.06193585861743\n",
            "The area of the circle is 1346.1410361366902\n"
          ]
        }
      ],
      "source": [
        "class Circle():                       # create a class name Circle\n",
        "  def __init__ (self,radius,pi):\n",
        "    self.radius = radius              # represent the instance of class name Circle\n",
        "    self.pi = pi\n",
        "  \n",
        "  def Circumference(self):            # method to calculate circumference (perimeter) of a circle\n",
        "    return 2*(self.pi)*(self.radius)\n",
        "\n",
        "  def Area(self):                     # method to calculate area of a circle\n",
        "    return (self.pi)*((self.radius)**2) \n",
        "\n",
        "  def Display(self):                  # method to display the circumference and area of a circle\n",
        "    print(\"The circumference of the circle is\",self.Circumference())\n",
        "    print(\"The area of the circle is\",self.Area())\n",
        "\n",
        "radius = float(input())\n",
        "pi = 3.141592653589793238 \n",
        "\n",
        "shape = Circle(radius,pi)\n",
        "shape.Display()"
      ]
    }
  ]
}