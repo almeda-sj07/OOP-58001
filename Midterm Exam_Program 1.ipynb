{
  "nbformat": 4,
  "nbformat_minor": 0,
  "metadata": {
    "colab": {
      "name": "Midterm Exam_Program 1.ipynb",
      "provenance": [],
      "collapsed_sections": [],
      "authorship_tag": "ABX9TyODaVsvXPErQnax2tDt8efX",
      "include_colab_link": true
    },
    "kernelspec": {
      "name": "python3",
      "display_name": "Python 3"
    },
    "language_info": {
      "name": "python"
    }
  },
  "cells": [
    {
      "cell_type": "markdown",
      "metadata": {
        "id": "view-in-github",
        "colab_type": "text"
      },
      "source": [
        "<a href=\"https://colab.research.google.com/github/almeda-sj07/OOP-58001/blob/main/Midterm%20Exam_Program%201.ipynb\" target=\"_parent\"><img src=\"https://colab.research.google.com/assets/colab-badge.svg\" alt=\"Open In Colab\"/></a>"
      ]
    },
    {
      "cell_type": "code",
      "execution_count": 10,
      "metadata": {
        "colab": {
          "base_uri": "https://localhost:8080/"
        },
        "id": "MQtYdXE3cBCT",
        "outputId": "fc3537e2-047e-414b-c154-f9d1592d2880"
      },
      "outputs": [
        {
          "output_type": "stream",
          "name": "stdout",
          "text": [
            "Enter the temperature in Celsius: 0\n",
            "273.15 Kelvin\n",
            "32.0 Fahrenheit\n",
            "Enter the temperature in Fahrenheit: 32\n",
            "0.0 Celsius\n",
            "Enter the temperature in Kelvin: 273.15\n",
            "0.0 Celsius\n"
          ]
        }
      ],
      "source": [
        "def main():\n",
        " class TemperatureConversion:\n",
        "  def __init__(self, temp=1):\n",
        "   self._temp = temp\n",
        "\n",
        " class CelsiusToFahrenheit(TemperatureConversion):\n",
        "  def conversion(self):\n",
        "   return (self._temp * 9) / 5 + 32\n",
        "\n",
        " class CelsiusToKelvin(TemperatureConversion):\n",
        "  def conversion(self):\n",
        "   return self._temp + 273.15\n",
        "\n",
        " class FahrenheitToCelsius(TemperatureConversion):\n",
        "   def conversion(self):\n",
        "    return (32 - self._temp) * 5 / 9\n",
        "\n",
        " class KelvinToCelsius(TemperatureConversion):\n",
        "   def conversion(self):\n",
        "    return self._temp - 273.15\n",
        "\n",
        " tempInCelsius = float(input(\"Enter the temperature in Celsius: \"))\n",
        " convert = CelsiusToKelvin(tempInCelsius)\n",
        " print(str(convert.conversion()) + \" Kelvin\")\n",
        "\n",
        " convert = CelsiusToFahrenheit(tempInCelsius)\n",
        " print(str(convert.conversion()) + \" Fahrenheit\")\n",
        "\n",
        " tempInCelsius = float(input(\"Enter the temperature in Fahrenheit: \"))\n",
        " convert = FahrenheitToCelsius(tempInCelsius)\n",
        " print(str(convert.conversion()) + \" Celsius\")\n",
        "\n",
        " tempInCelsius = float(input(\"Enter the temperature in Kelvin: \"))\n",
        " convert = KelvinToCelsius(tempInCelsius)\n",
        " print(str(convert.conversion()) + \" Celsius\")\n",
        "\n",
        "main()"
      ]
    }
  ]
}