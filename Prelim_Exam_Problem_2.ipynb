{
  "nbformat": 4,
  "nbformat_minor": 0,
  "metadata": {
    "colab": {
      "name": "Prelim Exam_Problem 2.ipynb",
      "provenance": [],
      "authorship_tag": "ABX9TyMWrRn+YuraP6z/7qa5/qhO",
      "include_colab_link": true
    },
    "kernelspec": {
      "name": "python3",
      "display_name": "Python 3"
    },
    "language_info": {
      "name": "python"
    }
  },
  "cells": [
    {
      "cell_type": "markdown",
      "metadata": {
        "id": "view-in-github",
        "colab_type": "text"
      },
      "source": [
        "<a href=\"https://colab.research.google.com/github/almeda-sj07/OOP-58001/blob/main/Prelim_Exam_Problem_2.ipynb\" target=\"_parent\"><img src=\"https://colab.research.google.com/assets/colab-badge.svg\" alt=\"Open In Colab\"/></a>"
      ]
    },
    {
      "cell_type": "code",
      "source": [
        "fn = \"Stephanie Joy G. Almeda\"\n",
        "sn = 202116899\n",
        "a = \"20 yrs old\"\n",
        "c = \"BSCpE\"\n",
        "\n",
        "print (fn)\n",
        "print (sn)\n",
        "print (a)\n",
        "print (c)"
      ],
      "metadata": {
        "colab": {
          "base_uri": "https://localhost:8080/"
        },
        "id": "qzDBGDG8-v-x",
        "outputId": "2d295ef9-1c90-49fe-84e7-808ee1c3598c"
      },
      "execution_count": 7,
      "outputs": [
        {
          "output_type": "stream",
          "name": "stdout",
          "text": [
            "Stephanie Joy G. Almeda\n",
            "202116899\n",
            "20 yrs old\n",
            "BSCpE\n"
          ]
        }
      ]
    },
    {
      "cell_type": "code",
      "source": [
        "class Student:\n",
        "  pass"
      ],
      "metadata": {
        "id": "zhcfKxAjFo_f"
      },
      "execution_count": null,
      "outputs": []
    },
    {
      "cell_type": "code",
      "source": [
        "class Student():\n",
        "  def __init__ (self,fn,sn,a,s,c):\n",
        "    self.fullname = fn\n",
        "    self.studentnumber = sn\n",
        "    self.age = a\n",
        "    self.school = s\n",
        "    self.course = c\n",
        "\n",
        "  def fullname(self):\n",
        "     return self.fullname\n",
        "\n",
        "  def display(self):\n",
        "      print (\"My name is\",self.fullname,\".\")\n",
        "      print (\"My student number is\",self.studentnumber, \"and I am\",self.age,\"years old.\")\n",
        "      print (\"My course is\", self.course, \"and I study at\", self.school,\".\")\n",
        "\n",
        "student = Student(\"Stephanie Joy G. Almeda\",202116899,20,\"Adamson University\",\"BSCpE\")\n",
        "student.display()\n"
      ],
      "metadata": {
        "id": "R3LtOj9PFse0",
        "colab": {
          "base_uri": "https://localhost:8080/"
        },
        "outputId": "d71d2d3a-6508-47b3-92ac-158787ad5b50"
      },
      "execution_count": 61,
      "outputs": [
        {
          "output_type": "stream",
          "name": "stdout",
          "text": [
            "My name is Stephanie Joy G. Almeda .\n",
            "My student number is 202116899 and I am 20 years old.\n",
            "My course is BSCpE and I study at Adamson University .\n"
          ]
        }
      ]
    }
  ]
}